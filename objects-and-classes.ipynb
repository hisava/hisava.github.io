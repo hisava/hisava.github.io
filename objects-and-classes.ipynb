{
 "cells": [
  {
   "cell_type": "markdown",
   "id": "766eb158-4601-4fd1-a904-0ffb52a3d35b",
   "metadata": {
    "editable": true,
    "slideshow": {
     "slide_type": ""
    },
    "tags": []
   },
   "source": [
    "# Objects and Classes"
   ]
  },
  {
   "cell_type": "markdown",
   "id": "77831e74-976f-424a-af8a-5aa28379f1c4",
   "metadata": {},
   "source": [
    "Питон - это объектно-ориентированный язык\n",
    "\n",
    "Поэтому у него существуют\n",
    "\n",
    "## Классы\n",
    "\n",
    "или типы и\n",
    "\n",
    "## Объекты\n",
    "\n",
    "или экземпляры типа"
   ]
  },
  {
   "cell_type": "markdown",
   "id": "0e4823ea-a54e-434c-843f-c40d5434b61f",
   "metadata": {},
   "source": [
    "Итак, класс - это чертёж или шаблон\n",
    "\n",
    "Объект создаётся по этому чертежу\n",
    "\n",
    "Класс описывает структуру и поведение объекта\n",
    "\n",
    "Класс - это форма для печенья, объект - это печенье\n",
    "\n",
    "Чтобы создать класс используйте ключевое слово"
   ]
  },
  {
   "cell_type": "code",
   "execution_count": null,
   "id": "2024f3b3-dfd3-42d6-91cb-1fbeeb4114de",
   "metadata": {},
   "outputs": [],
   "source": [
    "class"
   ]
  },
  {
   "cell_type": "markdown",
   "id": "c9e689b1-6439-49bc-b171-139ef9b994f0",
   "metadata": {},
   "source": [
    "Во время создания класса, вам надо указать\n",
    "\n",
    "`атрибуты`\n",
    "\n",
    "и\n",
    "\n",
    "`методы`\n",
    "\n",
    "Метод - это функция, она расположена внутри класса\n",
    "\n",
    "Атрибут - это переменная класса\n",
    "\n",
    "Например, класс\n",
    "\n",
    "МАШИНА\n",
    "\n",
    "атрибуты = ЦВЕТ и СКОРОСТЬ ( текущая )\n",
    "\n",
    "метод = ГАЗ"
   ]
  },
  {
   "cell_type": "markdown",
   "id": "4db23553-559f-4b14-bb0f-2313785a91ad",
   "metadata": {},
   "source": [
    "Объекты могут быть материальные ( например, кружка )\n",
    "\n",
    "и нематериальные или абстрактные ( например, счастье )\n",
    "\n",
    "Каждый объект имеет две главные характеристики\n",
    "\n",
    "# Состояние \n",
    "\n",
    "и\n",
    "\n",
    "# Поведение"
   ]
  },
  {
   "cell_type": "markdown",
   "id": "eef1d421-7fc9-4504-a63e-f81c84669884",
   "metadata": {},
   "source": [
    "Каждый человек уникален, как экземпляр или инстанс ( *instances* )\n",
    "\n",
    "Каждый человек независим\n",
    "\n",
    "Для создания экземпляра используется конструкция вида"
   ]
  },
  {
   "cell_type": "code",
   "execution_count": null,
   "id": "c4064c39-3b82-402a-a6d1-3e9b63a839f6",
   "metadata": {},
   "outputs": [],
   "source": [
    "my_car = Car()"
   ]
  },
  {
   "cell_type": "markdown",
   "id": "42947bf0-a7fe-4bfe-8103-cb06f4229aa6",
   "metadata": {},
   "source": [
    "Для взаимодействия с объектом вы можете вызывать его методы или атрибуты\n",
    "\n",
    "Для этого используется точка\n",
    "\n",
    "экземпляр.атрибут\n",
    "\n",
    "или\n",
    "\n",
    "экземпляр.метод()\n",
    "\n",
    "Например,"
   ]
  },
  {
   "cell_type": "code",
   "execution_count": null,
   "id": "fe13b17c-5db8-4b25-8e65-42104c83d4a3",
   "metadata": {},
   "outputs": [],
   "source": [
    "my_car.color = \"blue\"\n",
    "my_car.accelerate()"
   ]
  },
  {
   "cell_type": "markdown",
   "id": "cb989662-2f50-4b8a-9907-98043e9bbae9",
   "metadata": {},
   "source": [
    "## Описание класса"
   ]
  },
  {
   "cell_type": "code",
   "execution_count": null,
   "id": "32f34625-b54f-4942-b68b-dd3ff9aee622",
   "metadata": {},
   "outputs": [],
   "source": [
    "class ClassName:"
   ]
  },
  {
   "cell_type": "markdown",
   "id": "4476ac03-30aa-4b45-9cf2-30e94eba34d3",
   "metadata": {},
   "source": [
    "Class Attributes ( class_attribute = value )"
   ]
  },
  {
   "cell_type": "code",
   "execution_count": null,
   "id": "6c491281-f2f1-47ad-bf27-07182ad4a833",
   "metadata": {},
   "outputs": [],
   "source": [
    "class ClassName:\n",
    "    \n",
    "    # Class attributes (shared by all instances)\n",
    "    class_attribute = value"
   ]
  },
  {
   "cell_type": "markdown",
   "id": "d54ceba1-a459-4001-a55f-d3498935849a",
   "metadata": {},
   "source": [
    "Constructor Method ( def init( self, attribute1, attribute2, … ) ) "
   ]
  },
  {
   "cell_type": "markdown",
   "id": "5de15a4f-2c0c-4fa8-bd1e-247a15a20bb9",
   "metadata": {},
   "source": [
    "### __init__"
   ]
  },
  {
   "cell_type": "code",
   "execution_count": null,
   "id": "4b8f0093-c011-4e93-b0cb-feb1eabfc1fd",
   "metadata": {},
   "outputs": [],
   "source": [
    "__init__ # метод с таким именем называется КОНСТРУКТОР\n"
   ]
  },
  {
   "cell_type": "markdown",
   "id": "b07b2268-a778-46e2-852a-ed9f1d672bf3",
   "metadata": {},
   "source": [
    "Контруктор инициализирует переменные экземпляра ( или атрибуты )\n",
    "\n",
    "при рождении экземпляра ( человека )\n",
    "\n",
    "Это как создать нового персонажа в игре и назначить\n",
    "\n",
    "СИЛУ\n",
    "ЛОВКОСТЬ\n",
    "УМ\n",
    "\n"
   ]
  },
  {
   "cell_type": "markdown",
   "id": "46a1d3e0-2e0f-4595-be60-a1d2003fc72c",
   "metadata": {},
   "source": [
    "# self"
   ]
  },
  {
   "cell_type": "markdown",
   "id": "23415961-d412-480b-b40b-05a97808333f",
   "metadata": {},
   "source": [
    "The `self` parameter is the first parameter of the constructor, referring to the instance being created"
   ]
  },
  {
   "cell_type": "markdown",
   "id": "5b36ada4-7ef6-4c05-8d30-6e4c5706239e",
   "metadata": {},
   "source": [
    "Параметр `self` является первым параметром конструктора\n",
    "\n",
    "он указыват сам на себя, для того, чтобы можно было сослаться на экземпляр, который только рождается\n",
    "\n",
    "На примере человека, это его `я`"
   ]
  },
  {
   "cell_type": "code",
   "execution_count": null,
   "id": "643981c6-290e-43f8-99dc-53c93025d762",
   "metadata": {},
   "outputs": [],
   "source": [
    "self.attribute1\n",
    "self.attribute2"
   ]
  },
  {
   "cell_type": "markdown",
   "id": "67697391-06e9-46c8-bf12-b688a23a7384",
   "metadata": {},
   "source": [
    "### Assign values to instance attributes"
   ]
  },
  {
   "cell_type": "code",
   "execution_count": null,
   "id": "3538f676-8923-4715-ab4b-8aac30c556ed",
   "metadata": {},
   "outputs": [],
   "source": [
    "class ClassName:\n",
    "    \n",
    "    # Class attributes (shared by all instances)\n",
    "    class_attribute = value\n",
    "    \n",
    "    # Constructor method (initialize instance attributes)\n",
    "    def __init__(self, attribute1, attribute2, ...):\n",
    "        pass\n",
    "        # ..."
   ]
  },
  {
   "cell_type": "raw",
   "id": "6a12b830-fd47-43d6-8830-1510c0058ad1",
   "metadata": {},
   "source": [
    "-----------------------------------------------------------"
   ]
  },
  {
   "cell_type": "markdown",
   "id": "ff9fac92-76ec-4654-a558-ea844655acd8",
   "metadata": {},
   "source": [
    "Атрибуты, в которых не указано ключевое слово `self`, являются атрибутами класса. Они доступны всем экземплярам класса, и их значение может быть изменено через любой экземпляр класса\n",
    "\n",
    "Атрибуты, в которых указано ключевое слово `self`, являются атрибутами экземпляра. Они доступны только конкретному экземпляру класса, и их значение может быть изменено только через этот экземпляр"
   ]
  },
  {
   "cell_type": "markdown",
   "id": "126e91e0-4565-4eee-9839-0da0b92d1416",
   "metadata": {},
   "source": [
    "Атрибуты класса следует использовать для хранения информации, которая будет актуальна `для всех` экземпляров класса\n",
    "\n",
    "Атрибуты экземпляра следует использовать для хранения информации, которая будет актуальна только `для конкретного` экземпляра класса"
   ]
  },
  {
   "cell_type": "code",
   "execution_count": null,
   "id": "f53ebcc2-dc89-42c0-a713-5cd07f98ecbb",
   "metadata": {},
   "outputs": [],
   "source": [
    "class ClassName:\n",
    "    \n",
    "    # Class attributes (shared by all instances)\n",
    "    class_attribute = value\n",
    "    \n",
    "    # Constructor method (initialize instance attributes)\n",
    "    def __init__(self, attribute1, attribute2, ...):\n",
    "        self.attribute1 = attribute1\n",
    "        self.attribute2 = attribute2\n",
    "        # ..."
   ]
  },
  {
   "cell_type": "markdown",
   "id": "89ca0da6-a291-4433-a627-9aa953bdd5f6",
   "metadata": {},
   "source": [
    "# Методы"
   ]
  },
  {
   "cell_type": "code",
   "execution_count": null,
   "id": "50b5e36f-e3dc-4f7f-9e4d-624ea94fa7f6",
   "metadata": {},
   "outputs": [],
   "source": [
    "class ClassName:\n",
    "    \n",
    "    # Class attributes (shared by all instances)\n",
    "    class_attribute = value\n",
    "    \n",
    "    # Constructor method (initialize instance attributes)\n",
    "    def __init__(self, attribute1, attribute2, ...):\n",
    "        self.attribute1 = attribute1\n",
    "        self.attribute2 = attribute2\n",
    "        \n",
    "    # Instance methods (functions)\n",
    "    def method1(self, parameter1, parameter2, ...):\n",
    "        # Method logic\n",
    "        pass\n",
    "        \n",
    "    def method2(self, parameter1, parameter2, ...):\n",
    "        # Method logic\n",
    "        pass"
   ]
  },
  {
   "cell_type": "markdown",
   "id": "dfdf2893-1f2a-4964-bd5f-51aece03f0b5",
   "metadata": {},
   "source": [
    "## Creating Objects ( Instances )"
   ]
  },
  {
   "cell_type": "code",
   "execution_count": null,
   "id": "580e60c2-7857-4b4c-b3d0-9a348bc436b8",
   "metadata": {},
   "outputs": [],
   "source": [
    "# Create objects (instances) of the class\n",
    "object1 = ClassName( arg1, arg2, ... )\n",
    "object2 = ClassName( arg1, arg2, ... )"
   ]
  },
  {
   "cell_type": "markdown",
   "id": "0ff115a6-e70f-410f-a170-105f6fbe2763",
   "metadata": {},
   "source": [
    "# Method 1: Using dot notation"
   ]
  },
  {
   "cell_type": "code",
   "execution_count": null,
   "id": "894c6bfc-ab07-4920-b669-5520b31b7907",
   "metadata": {},
   "outputs": [],
   "source": [
    "# Calling methods on objects\n",
    "# Method 1: Using dot notation\n",
    "result1 = object1.method1( param1_value, param2_value, ... )\n",
    "result2 = object2.method2( param1_value, param2_value, ... )"
   ]
  },
  {
   "cell_type": "markdown",
   "id": "1d68e532-f3ba-4e1f-a3b2-5e56810535e4",
   "metadata": {},
   "source": [
    "# Method 2: Assigning object methods to variables"
   ]
  },
  {
   "cell_type": "code",
   "execution_count": null,
   "id": "6e84443f-18c9-49a3-948e-a9b2292c272f",
   "metadata": {},
   "outputs": [],
   "source": [
    "# Method 2: Assigning object methods to variables\n",
    "method_reference = object1.method1  # Assign the method to a variable\n",
    "result3 = method_reference( param1_value, param2_value, ... )"
   ]
  },
  {
   "cell_type": "markdown",
   "id": "f32b9a4d-8825-4327-a551-27748cd1cd9b",
   "metadata": {},
   "source": [
    "## Accessing object attributes"
   ]
  },
  {
   "cell_type": "code",
   "execution_count": null,
   "id": "9684205a-483b-4c03-ad49-884e4adb5e09",
   "metadata": {},
   "outputs": [],
   "source": [
    "# Accessing object attributes\n",
    "attribute_value = object1.attribute1  \n",
    "# Access the attribute using dot notation"
   ]
  },
  {
   "cell_type": "markdown",
   "id": "2ad245f0-3a56-4203-9bbb-074f76dcbf8e",
   "metadata": {},
   "source": [
    "## Modifying object attributes"
   ]
  },
  {
   "cell_type": "code",
   "execution_count": null,
   "id": "55759c6d-166a-42bf-b74f-60a7ccd59ccb",
   "metadata": {},
   "outputs": [],
   "source": [
    "# Modifying object attributes\n",
    "object1.attribute2 = new_value\n",
    "# Change the value of an attribute using dot notation"
   ]
  },
  {
   "cell_type": "markdown",
   "id": "7cafc63f-347f-4e29-a790-9afb1e5dbc96",
   "metadata": {},
   "source": [
    "## Accessing class attributes ( shared by all instances )"
   ]
  },
  {
   "cell_type": "code",
   "execution_count": null,
   "id": "7ed0859f-24c0-4d67-a658-e689a0b71da4",
   "metadata": {},
   "outputs": [],
   "source": [
    "# Accessing class attributes ( shared by all instances )\n",
    "class_attr_value = ClassName.class_attribute"
   ]
  },
  {
   "cell_type": "markdown",
   "id": "8d5586f2-31fc-41a7-a938-2319c35362ea",
   "metadata": {},
   "source": [
    "# Пример"
   ]
  },
  {
   "cell_type": "code",
   "execution_count": null,
   "id": "bacb45a6-c566-4ac1-8d5b-b8d5a8daf637",
   "metadata": {},
   "outputs": [],
   "source": [
    "class Car:\n",
    "    \n",
    "    # Class attribute (shared by all instances)\n",
    "    max_speed = 120  # Maximum speed in km/h\n",
    "    \n",
    "    # Constructor method (initialize instance attributes)\n",
    "    def __init__( self, make, model, color, speed = 0 ):\n",
    "        self.make = make\n",
    "        self.model = model\n",
    "        self.color = color\n",
    "        self.speed = speed  # Initial speed is set to 0\n",
    "        \n",
    "    # Method for accelerating the car\n",
    "    def accelerate( self, acceleration ):\n",
    "        if self.speed + acceleration <= Car.max_speed:\n",
    "            self.speed += acceleration\n",
    "        else:\n",
    "            self.speed = Car.max_speed\n",
    "            \n",
    "    # Method to get the current speed of the car\n",
    "    def get_speed( self ) :\n",
    "        return self.speed"
   ]
  },
  {
   "cell_type": "markdown",
   "id": "7d1f69c4-9633-4347-bfd2-ea88ffb0386f",
   "metadata": {},
   "source": [
    "Now, we will instantiate two objects of the Car class, each with the following characteristics"
   ]
  },
  {
   "cell_type": "code",
   "execution_count": null,
   "id": "f3058f48-0b83-446d-a8ae-9ebed6d687e0",
   "metadata": {},
   "outputs": [],
   "source": [
    "# Create objects (instances) of the Car class\n",
    "car1 = Car( \"Toyota\", \"Camry\", \"Blue\" )\n",
    "car2 = Car( \"Honda\", \"Civic\", \"Red\" )"
   ]
  },
  {
   "cell_type": "markdown",
   "id": "f29d774d-8408-463e-bcb2-7314143976e2",
   "metadata": {},
   "source": [
    "Увеличить скорость"
   ]
  },
  {
   "cell_type": "code",
   "execution_count": null,
   "id": "ac602e61-9011-4324-9068-3dc5bdb0d970",
   "metadata": {},
   "outputs": [],
   "source": [
    "# Accelerate the cars\n",
    "car1.accelerate( 30 )\n",
    "car2.accelerate( 20 )"
   ]
  },
  {
   "cell_type": "markdown",
   "id": "a98d8362-515d-48fb-a53e-499b691ebc2c",
   "metadata": {},
   "source": [
    "Узнать текущую скорость"
   ]
  },
  {
   "cell_type": "code",
   "execution_count": null,
   "id": "248ce754-8c26-4197-be3b-3b67565b618b",
   "metadata": {},
   "outputs": [],
   "source": [
    "# Print the current speeds of the cars\n",
    "print( f\"{car1.make} {car1.model} is currently at {car1.get_speed()} km/h.\" )\n",
    "print( f\"{car2.make} {car2.model} is currently at {car2.get_speed()} km/h.\" )"
   ]
  }
 ],
 "metadata": {
  "kernelspec": {
   "display_name": "Python 3 (ipykernel)",
   "language": "python",
   "name": "python3"
  },
  "language_info": {
   "codemirror_mode": {
    "name": "ipython",
    "version": 3
   },
   "file_extension": ".py",
   "mimetype": "text/x-python",
   "name": "python",
   "nbconvert_exporter": "python",
   "pygments_lexer": "ipython3",
   "version": "3.11.0"
  }
 },
 "nbformat": 4,
 "nbformat_minor": 5
}
