{
 "cells": [
  {
   "cell_type": "code",
   "execution_count": 4,
   "id": "0efa24c0-5c77-4178-a5b3-aca2fc40aa41",
   "metadata": {},
   "outputs": [
    {
     "ename": "SyntaxError",
     "evalue": "invalid syntax (2249976715.py, line 4)",
     "output_type": "error",
     "traceback": [
      "\u001b[1;36m  Cell \u001b[1;32mIn[4], line 4\u001b[1;36m\u001b[0m\n\u001b[1;33m    using Plots;\u001b[0m\n\u001b[1;37m          ^\u001b[0m\n\u001b[1;31mSyntaxError\u001b[0m\u001b[1;31m:\u001b[0m invalid syntax\n"
     ]
    }
   ],
   "source": [
    "import Pkg\n",
    "Pkg.add(\"Plots\")\n",
    "\n",
    "using Plots;\n",
    "\n",
    "bonne(phi,lam,t) = let\n",
    "    ϕ = 83/180*π\n",
    "    ρ  = cot(ϕ) - ϕ - ϕ(t)\n",
    "    E  = λ(t)*cos(ϕ(t))/ρ\n",
    "    (ρ*sin(E), -cot(ϕ) + ρ*cos(E))\n",
    "end;\n",
    "\n",
    "ϕ(t) = 0.9*pi/2*cos(50 * t)*(cos(51 * t))+0.12;\n",
    "λ(t) = 0.9*pi*sin(50 * t)*(cos(51 * t));\n",
    "\n",
    "plot(legend=false,size=(550,500),bg=\"black\",lw=0.75,la=0.95);\n",
    "plot!([bonne(ϕ,λ,t + π/2) for t in 0:0.001:π]);\n",
    "plot!([bonne(ϕ,λ,t - π/2) for t in 0:0.001:π],lc=\"orangered\");\n",
    "png(\"bonne.png\");"
   ]
  },
  {
   "cell_type": "code",
   "execution_count": null,
   "id": "98488608-1690-4d8d-ad72-d09a97e8b104",
   "metadata": {},
   "outputs": [],
   "source": []
  }
 ],
 "metadata": {
  "kernelspec": {
   "display_name": "Python 3 (ipykernel)",
   "language": "python",
   "name": "python3"
  },
  "language_info": {
   "codemirror_mode": {
    "name": "ipython",
    "version": 3
   },
   "file_extension": ".py",
   "mimetype": "text/x-python",
   "name": "python",
   "nbconvert_exporter": "python",
   "pygments_lexer": "ipython3",
   "version": "3.12.0"
  }
 },
 "nbformat": 4,
 "nbformat_minor": 5
}
