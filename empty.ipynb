{
 "cells": [
  {
   "cell_type": "code",
   "execution_count": 1,
   "id": "6bd5e8b6-2f46-4ae6-9e9a-0fca28d39697",
   "metadata": {},
   "outputs": [
    {
     "data": {
      "text/plain": [
       "0"
      ]
     },
     "execution_count": 1,
     "metadata": {},
     "output_type": "execute_result"
    }
   ],
   "source": [
    "import numpy as np \n",
    "aa = np.array( [ -1, 1 ] )\n",
    "bb = np.array( [ 1, 1 ] )\n",
    "np.dot( aa, bb )"
   ]
  },
  {
   "cell_type": "code",
   "execution_count": 2,
   "id": "f8014dcb-2c07-4a84-b370-cfd4dd4fb62a",
   "metadata": {},
   "outputs": [
    {
     "data": {
      "text/plain": [
       "array([0, 1])"
      ]
     },
     "execution_count": 2,
     "metadata": {},
     "output_type": "execute_result"
    }
   ],
   "source": [
    "X = np.array( [ [ 1,0,1] , [2,2,2] ] )\n",
    "out = X[ 0, 1:3 ]\n",
    "out"
   ]
  },
  {
   "cell_type": "code",
   "execution_count": 3,
   "id": "6fabe2fa-8127-4221-9399-70155282bee4",
   "metadata": {},
   "outputs": [
    {
     "data": {
      "text/plain": [
       "array([[2, 1],\n",
       "       [1, 2]])"
      ]
     },
     "execution_count": 3,
     "metadata": {},
     "output_type": "execute_result"
    }
   ],
   "source": [
    "aa = np.array( [ [1,0], [0,1] ] )\n",
    "bb = np.array( [ [2,1], [1,2] ] )\n",
    "np.dot( aa, bb )"
   ]
  },
  {
   "cell_type": "code",
   "execution_count": null,
   "id": "cd8bf3c2-1afa-440b-b9d4-3cc58f36f862",
   "metadata": {},
   "outputs": [],
   "source": []
  }
 ],
 "metadata": {
  "kernelspec": {
   "display_name": "Python 3 (ipykernel)",
   "language": "python",
   "name": "python3"
  },
  "language_info": {
   "codemirror_mode": {
    "name": "ipython",
    "version": 3
   },
   "file_extension": ".py",
   "mimetype": "text/x-python",
   "name": "python",
   "nbconvert_exporter": "python",
   "pygments_lexer": "ipython3",
   "version": "3.11.0"
  }
 },
 "nbformat": 4,
 "nbformat_minor": 5
}
