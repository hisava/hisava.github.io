{
 "cells": [
  {
   "cell_type": "code",
   "execution_count": 3,
   "id": "484b98b2-8210-46ee-9ffb-f188a78cc098",
   "metadata": {},
   "outputs": [
    {
     "name": "stdout",
     "output_type": "stream",
     "text": [
      "x 0\n",
      "y 2\n"
     ]
    }
   ],
   "source": [
    "aa = { 'x' : 0, 'y' : 2 }\n",
    "for xy in aa :\n",
    "  print( xy, aa[ xy ] )"
   ]
  },
  {
   "cell_type": "code",
   "execution_count": null,
   "id": "b66b950a-d9fe-4098-b41c-42b52af0d882",
   "metadata": {},
   "outputs": [],
   "source": []
  }
 ],
 "metadata": {
  "kernelspec": {
   "display_name": "Python 3 (ipykernel)",
   "language": "python",
   "name": "python3"
  },
  "language_info": {
   "codemirror_mode": {
    "name": "ipython",
    "version": 3
   },
   "file_extension": ".py",
   "mimetype": "text/x-python",
   "name": "python",
   "nbconvert_exporter": "python",
   "pygments_lexer": "ipython3",
   "version": "3.11.0"
  }
 },
 "nbformat": 4,
 "nbformat_minor": 5
}
