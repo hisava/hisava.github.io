{
 "cells": [
  {
   "cell_type": "code",
   "execution_count": 3,
   "id": "6fec7efa-f7fd-4083-b919-172274ddcaef",
   "metadata": {},
   "outputs": [],
   "source": [
    "# Write line to file\n",
    "\n",
    "exmp2 = 'Example2.txt'\n",
    "with open( exmp2, 'w' ) as writefile :\n",
    "  writefile.write( \"This is line A\" )"
   ]
  },
  {
   "cell_type": "code",
   "execution_count": 4,
   "id": "24cbc945-5291-43ff-b418-3833e699d14d",
   "metadata": {},
   "outputs": [
    {
     "name": "stdout",
     "output_type": "stream",
     "text": [
      "This is line A\n"
     ]
    }
   ],
   "source": [
    "# Read file\n",
    "\n",
    "with open( exmp2, 'r' ) as testwritefile :\n",
    "  print( testwritefile.read() )"
   ]
  },
  {
   "cell_type": "code",
   "execution_count": 5,
   "id": "004e6569-d00c-4444-b1fd-1db6354f4881",
   "metadata": {},
   "outputs": [],
   "source": [
    "# Write lines to file\n",
    "\n",
    "with open( exmp2, 'w' ) as writefile :\n",
    "  writefile.write( \"This is line A\\n\" )\n",
    "  writefile.write( \"This is line B\\n\" )"
   ]
  },
  {
   "cell_type": "code",
   "execution_count": 6,
   "id": "2bd201e7-769b-450f-9e86-5f0b6c510dfa",
   "metadata": {},
   "outputs": [
    {
     "name": "stdout",
     "output_type": "stream",
     "text": [
      "This is line A\n",
      "This is line B\n",
      "\n"
     ]
    }
   ],
   "source": [
    "# Check whether write to file\n",
    "\n",
    "with open( exmp2, 'r' ) as testwritefile :\n",
    "  print( testwritefile.read() )"
   ]
  },
  {
   "cell_type": "code",
   "execution_count": 8,
   "id": "748e2257-20ab-419b-b54d-37a0dca5fb3a",
   "metadata": {},
   "outputs": [
    {
     "data": {
      "text/plain": [
       "['This is line A\\n', 'This is line B\\n', 'This is line C\\n']"
      ]
     },
     "execution_count": 8,
     "metadata": {},
     "output_type": "execute_result"
    }
   ],
   "source": [
    "# Sample list of text\n",
    "\n",
    "Lines = [ \"This is line A\\n\", \\\n",
    "          \"This is line B\\n\", \\\n",
    "          \"This is line C\\n\" ]\n",
    "Lines"
   ]
  },
  {
   "cell_type": "code",
   "execution_count": 9,
   "id": "1202a4da-821c-46a3-90e9-519a252a7c38",
   "metadata": {},
   "outputs": [
    {
     "name": "stdout",
     "output_type": "stream",
     "text": [
      "This is line A\n",
      "\n",
      "This is line B\n",
      "\n",
      "This is line C\n",
      "\n"
     ]
    }
   ],
   "source": [
    "with open( 'Example2.txt', 'w' ) as writefile :\n",
    "  for line in Lines:\n",
    "    print( line )\n",
    "    writefile.write( line )"
   ]
  },
  {
   "cell_type": "code",
   "execution_count": 10,
   "id": "86442a78-5aa5-46a2-9d17-45eded3648e8",
   "metadata": {},
   "outputs": [
    {
     "name": "stdout",
     "output_type": "stream",
     "text": [
      "This is line A\n",
      "This is line B\n",
      "This is line C\n",
      "\n"
     ]
    }
   ],
   "source": [
    "# Verify if writing to file is successfully executed\n",
    "\n",
    "with open( 'Example2.txt', 'r' ) as testwritefile :\n",
    "  print( testwritefile.read() )"
   ]
  },
  {
   "cell_type": "code",
   "execution_count": 11,
   "id": "fede47f9-6375-4bec-8cde-4cbe57179de5",
   "metadata": {},
   "outputs": [
    {
     "name": "stdout",
     "output_type": "stream",
     "text": [
      "Overwrite\n",
      "\n"
     ]
    }
   ],
   "source": [
    "fname = 'Example2.txt'\n",
    "with open( fname, 'w' ) as writefile :\n",
    "  writefile.write( \"Overwrite\\n\" )\n",
    "with open( fname, 'r' ) as testwritefile :\n",
    "  print( testwritefile.read() )"
   ]
  },
  {
   "cell_type": "code",
   "execution_count": 12,
   "id": "b152fdf2-d1c7-4e81-8ddd-f05156d70ddc",
   "metadata": {},
   "outputs": [],
   "source": [
    "# Write a new line to text file\n",
    "\n",
    "with open( fname, 'a' ) as testwritefile :\n",
    "  testwritefile.write( \"This is line C\\n\" )\n",
    "  testwritefile.write( \"This is line D\\n\" )\n",
    "  testwritefile.write( \"This is line E\\n\" )"
   ]
  },
  {
   "cell_type": "code",
   "execution_count": 13,
   "id": "a428d3cc-103e-4e1b-9c33-1b41ee38f3f2",
   "metadata": {},
   "outputs": [
    {
     "name": "stdout",
     "output_type": "stream",
     "text": [
      "Overwrite\n",
      "This is line C\n",
      "This is line D\n",
      "This is line E\n",
      "\n"
     ]
    }
   ],
   "source": [
    "# Verify if the new line is in the text file\n",
    "\n",
    "with open( fname, 'r' ) as testwritefile :\n",
    "  print( testwritefile.read() )"
   ]
  },
  {
   "cell_type": "code",
   "execution_count": 14,
   "id": "ccf20ce8-24ed-4973-b8b1-6545700a3a50",
   "metadata": {},
   "outputs": [
    {
     "name": "stdout",
     "output_type": "stream",
     "text": [
      "\n"
     ]
    }
   ],
   "source": [
    "with open( fname, 'a+' ) as testwritefile :\n",
    "  testwritefile.write( \"This is line E\\n\" )\n",
    "  print( testwritefile.read() )"
   ]
  },
  {
   "cell_type": "code",
   "execution_count": 16,
   "id": "d62f60c9-cbd2-41c0-a10e-cc9dda141162",
   "metadata": {},
   "outputs": [
    {
     "name": "stdout",
     "output_type": "stream",
     "text": [
      "Initial Location: 75\n",
      "Read nothing\n",
      "\n",
      "New Location : 0\n",
      "Overwrite\n",
      "This is line C\n",
      "This is line D\n",
      "This is line E\n",
      "This is line E\n",
      "\n",
      "Location after read: 75\n"
     ]
    }
   ],
   "source": [
    "with open(  fname, 'a+' ) as testwritefile :\n",
    "  print( \"Initial Location: {}\".format( testwritefile.tell() ) )\n",
    "  \n",
    "  data = testwritefile.read()\n",
    "  if ( not data ):  #empty strings return false in python\n",
    "    print('Read nothing') \n",
    "  else: \n",
    "    print( data )\n",
    "            \n",
    "  testwritefile.seek( 0, 0 ) # move 0 bytes from beginning.\n",
    "    \n",
    "  print( \"\\nNew Location : {}\".format( testwritefile.tell() ) )\n",
    "  data = testwritefile.read()\n",
    "  if ( not data ):  #empty strings return false in python\n",
    "    print( 'Read nothing' ) \n",
    "  else: \n",
    "    print( data )\n",
    "    \n",
    "  print(\"Location after read: {}\".format( testwritefile.tell() ) )"
   ]
  },
  {
   "cell_type": "code",
   "execution_count": 17,
   "id": "2940f3fc-aaaa-4bbb-8fa9-2b58cbae01ad",
   "metadata": {},
   "outputs": [
    {
     "name": "stdout",
     "output_type": "stream",
     "text": [
      "Строка 1\n",
      "Строка 2\n",
      "Строка 3\n",
      "Строка 4\n",
      "finished\n",
      " line E\n",
      "This is line E\n",
      "\n"
     ]
    }
   ],
   "source": [
    "with open( fname, 'r+' ) as testwritefile :\n",
    "  testwritefile.seek( 0, 0 ) #write at beginning of file\n",
    "  testwritefile.write( \"Строка 1\" + \"\\n\" )\n",
    "  testwritefile.write( \"Строка 2\" + \"\\n\" )\n",
    "  testwritefile.write( \"Строка 3\" + \"\\n\" )\n",
    "  testwritefile.write( \"Строка 4\" + \"\\n\" )\n",
    "  testwritefile.write( \"finished\\n\" )\n",
    "  testwritefile.seek( 0, 0 )\n",
    "  print( testwritefile.read() )"
   ]
  },
  {
   "cell_type": "code",
   "execution_count": 18,
   "id": "7ba72a29-66f5-4536-a603-8d9731ba5a67",
   "metadata": {},
   "outputs": [
    {
     "name": "stdout",
     "output_type": "stream",
     "text": [
      "Строка 1\n",
      "Строка 2\n",
      "Строка 3\n",
      "Строка 4\n",
      "finished\n",
      "\n"
     ]
    }
   ],
   "source": [
    "with open( fname, 'r+' ) as testwritefile :\n",
    "  testwritefile.seek( 0, 0 ) #write at beginning of file\n",
    "  testwritefile.write( \"Строка 1\" + \"\\n\" )\n",
    "  testwritefile.write( \"Строка 2\" + \"\\n\" )\n",
    "  testwritefile.write( \"Строка 3\" + \"\\n\" )\n",
    "  testwritefile.write( \"Строка 4\" + \"\\n\" )\n",
    "  testwritefile.write( \"finished\\n\" )\n",
    "    \n",
    "  #Uncomment the line below\n",
    "  testwritefile.truncate()    \n",
    "    \n",
    "  testwritefile.seek( 0, 0 )\n",
    "  print( testwritefile.read() )"
   ]
  },
  {
   "cell_type": "markdown",
   "id": "b99a39b6-bda6-48ee-b8da-d6e696e99a13",
   "metadata": {},
   "source": [
    "<h1 id=\"copy\">Copy a File</h1> "
   ]
  },
  {
   "cell_type": "code",
   "execution_count": 20,
   "id": "b2aad587-0c1e-4b5a-9fcd-93f07f173fe1",
   "metadata": {},
   "outputs": [],
   "source": [
    "name2 = 'Example2.txt'\n",
    "name3 = 'Example3.txt'\n",
    "\n",
    "# Copy file to another\n",
    "\n",
    "with open( name2, 'r' ) as readfile :\n",
    "  with open( name3, 'w' ) as writefile :\n",
    "    for line in readfile :\n",
    "      writefile.write( line )"
   ]
  },
  {
   "cell_type": "code",
   "execution_count": 21,
   "id": "58323a55-ea75-4259-bad2-2b81622f2729",
   "metadata": {},
   "outputs": [
    {
     "name": "stdout",
     "output_type": "stream",
     "text": [
      "Строка 1\n",
      "Строка 2\n",
      "Строка 3\n",
      "Строка 4\n",
      "finished\n",
      "\n"
     ]
    }
   ],
   "source": [
    "# Verify if the copy is successfully executed\n",
    "\n",
    "with open( name3, 'r' ) as testwritefile :\n",
    "  print( testwritefile.read() ) "
   ]
  },
  {
   "cell_type": "code",
   "execution_count": null,
   "id": "42a45a2b-19e7-4c4d-9a53-0b8ad84c1fea",
   "metadata": {},
   "outputs": [],
   "source": []
  }
 ],
 "metadata": {
  "kernelspec": {
   "display_name": "Python 3 (ipykernel)",
   "language": "python",
   "name": "python3"
  },
  "language_info": {
   "codemirror_mode": {
    "name": "ipython",
    "version": 3
   },
   "file_extension": ".py",
   "mimetype": "text/x-python",
   "name": "python",
   "nbconvert_exporter": "python",
   "pygments_lexer": "ipython3",
   "version": "3.11.0"
  }
 },
 "nbformat": 4,
 "nbformat_minor": 5
}
