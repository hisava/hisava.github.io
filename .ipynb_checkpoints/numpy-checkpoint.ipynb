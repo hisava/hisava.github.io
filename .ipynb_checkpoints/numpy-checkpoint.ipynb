{
 "cells": [
  {
   "cell_type": "markdown",
   "id": "2f22f40b-70cd-4bf0-bf34-3cd5af38d307",
   "metadata": {},
   "source": [
    "# numpy\n"
   ]
  },
  {
   "cell_type": "markdown",
   "id": "de008509-377f-462e-b796-39842bb96645",
   "metadata": {},
   "source": [
    "## numpy"
   ]
  },
  {
   "cell_type": "markdown",
   "id": "101425ef-5139-492f-b41c-aefa7f43aad1",
   "metadata": {},
   "source": [
    "### numpy"
   ]
  },
  {
   "cell_type": "code",
   "execution_count": null,
   "id": "446563b3-99a0-490e-a68d-ea992590ab8c",
   "metadata": {},
   "outputs": [],
   "source": [
    "numpy ( or np ) is numerical in python"
   ]
  },
  {
   "cell_type": "markdown",
   "id": "72016520-c7b5-4a41-88a6-189ef684da72",
   "metadata": {},
   "source": [
    "Что такое **ndarray** ?"
   ]
  },
  {
   "cell_type": "markdown",
   "id": "08ac8d04-950f-48b9-9854-6896471c5e23",
   "metadata": {},
   "source": [
    "https://github.com/numpy/numpy"
   ]
  },
  {
   "cell_type": "markdown",
   "id": "52342ebf-575c-4d29-a9f6-43352079953f",
   "metadata": {},
   "source": [
    "**ndarray** это такой специальный тип данных ( класс ), который придумал *Jim*"
   ]
  },
  {
   "cell_type": "markdown",
   "id": "7041b04c-ee8a-4397-aadf-0f864b14c0e6",
   "metadata": {},
   "source": [
    "Джим Хьюгонин `Jim Hugunin` изначально назвал расширение для языка Python\n",
    "\n",
    "numeric\n",
    "\n",
    "а, не numpy"
   ]
  },
  {
   "cell_type": "markdown",
   "id": "bdd0278d-366d-43ba-abbb-37568e303d5c",
   "metadata": {},
   "source": [
    "Т.е. **ndarray** - это `numeric data array'"
   ]
  },
  {
   "cell_type": "code",
   "execution_count": 1,
   "id": "c5bb2681-2be7-4fff-9f47-8ff97e42ed01",
   "metadata": {},
   "outputs": [],
   "source": [
    "import numpy as np "
   ]
  },
  {
   "cell_type": "code",
   "execution_count": 2,
   "id": "96b84ea3-b8c4-4d6d-aeaa-e0087453fad9",
   "metadata": {},
   "outputs": [
    {
     "data": {
      "text/plain": [
       "numpy.ndarray"
      ]
     },
     "execution_count": 2,
     "metadata": {},
     "output_type": "execute_result"
    }
   ],
   "source": [
    "aa = np.array( [ 0, 1, 2, 3, 4 ] )\n",
    "type( aa )"
   ]
  },
  {
   "cell_type": "code",
   "execution_count": 3,
   "id": "ec1d106d-ca3d-408d-b79d-728e5e76121f",
   "metadata": {},
   "outputs": [
    {
     "name": "stdout",
     "output_type": "stream",
     "text": [
      "[0 1 2 3 4]\n"
     ]
    }
   ],
   "source": [
    "print( aa )"
   ]
  },
  {
   "cell_type": "code",
   "execution_count": 4,
   "id": "0bc41a06-1728-46a1-b4a4-18fa4d796b18",
   "metadata": {},
   "outputs": [
    {
     "data": {
      "text/plain": [
       "list"
      ]
     },
     "execution_count": 4,
     "metadata": {},
     "output_type": "execute_result"
    }
   ],
   "source": [
    "alist = [ 0, 1, 2, 3, 4 ]\n",
    "type( alist )"
   ]
  },
  {
   "cell_type": "code",
   "execution_count": 5,
   "id": "a12402ee-2c90-4edb-8be5-d2d42ecdc877",
   "metadata": {},
   "outputs": [
    {
     "name": "stdout",
     "output_type": "stream",
     "text": [
      "[0, 1, 2, 3, 4]\n"
     ]
    }
   ],
   "source": [
    "print( alist )"
   ]
  },
  {
   "cell_type": "code",
   "execution_count": 6,
   "id": "e37bfe53-0554-4dbc-9dc9-0d7893663edf",
   "metadata": {},
   "outputs": [
    {
     "name": "stdout",
     "output_type": "stream",
     "text": [
      "1.25.1\n"
     ]
    }
   ],
   "source": [
    "print( np.__version__ ) # ВЕРСИЯ БИБЛИОТЕКИ numpy"
   ]
  },
  {
   "cell_type": "markdown",
   "id": "5b35abdb-1973-480b-8768-4c145440b1d9",
   "metadata": {},
   "source": [
    "В массивах **ndarray** каждый элемент имеет определённый тип\n",
    "\n",
    "Он называется `dtype` от *data type*"
   ]
  },
  {
   "cell_type": "code",
   "execution_count": 8,
   "id": "1f3d89f0-2e1a-453e-9c27-9828c3402a77",
   "metadata": {},
   "outputs": [
    {
     "data": {
      "text/plain": [
       "dtype('int32')"
      ]
     },
     "execution_count": 8,
     "metadata": {},
     "output_type": "execute_result"
    }
   ],
   "source": [
    "aa.dtype"
   ]
  },
  {
   "cell_type": "code",
   "execution_count": 9,
   "id": "6ec5f0bb-9334-45e5-8f0c-577cb9cf0397",
   "metadata": {},
   "outputs": [],
   "source": [
    "bb = np.array( [ np.pi ] )"
   ]
  },
  {
   "cell_type": "code",
   "execution_count": 10,
   "id": "b182e77a-a639-4fa5-8d24-c8216f43996d",
   "metadata": {},
   "outputs": [
    {
     "name": "stdout",
     "output_type": "stream",
     "text": [
      "[3.14159265]\n"
     ]
    }
   ],
   "source": [
    "print( bb )"
   ]
  },
  {
   "cell_type": "code",
   "execution_count": 11,
   "id": "39521d42-852b-499f-a206-bf2eda3379b6",
   "metadata": {},
   "outputs": [
    {
     "data": {
      "text/plain": [
       "dtype('float64')"
      ]
     },
     "execution_count": 11,
     "metadata": {},
     "output_type": "execute_result"
    }
   ],
   "source": [
    "bb.dtype"
   ]
  },
  {
   "cell_type": "markdown",
   "id": "a4af581c-ae10-4266-bf66-f3fc02f8c8b4",
   "metadata": {},
   "source": [
    "Т.е. по содержимому массива автоматически определяется тип\n",
    "\n",
    "**int32** или **float64**"
   ]
  },
  {
   "cell_type": "markdown",
   "id": "4dc84030-32fd-4cbd-9452-caa6e027ba40",
   "metadata": {},
   "source": [
    "# Создание массива"
   ]
  },
  {
   "cell_type": "code",
   "execution_count": 3,
   "id": "b07e7ce0-a79a-4ea8-8f39-d2e9b7eb8b24",
   "metadata": {},
   "outputs": [
    {
     "name": "stdout",
     "output_type": "stream",
     "text": [
      "[0 1 2 3 4]\n"
     ]
    }
   ],
   "source": [
    "c = np.array( [ 20, 1, 2, 3, 4 ] )\n",
    "c[ 0 ] = 0\n",
    "c[ 4 ] = 4\n",
    "print( c )"
   ]
  },
  {
   "cell_type": "code",
   "execution_count": 4,
   "id": "a0a01c93-7ca6-42f9-91ae-53f999d3f397",
   "metadata": {},
   "outputs": [
    {
     "name": "stdout",
     "output_type": "stream",
     "text": [
      "[1 2 3]\n"
     ]
    }
   ],
   "source": [
    "d = c[ 1 : 4 ]\n",
    "#      1 2 3 \n",
    "print( d ) # 1 2 3"
   ]
  },
  {
   "cell_type": "code",
   "execution_count": 5,
   "id": "b42949d9-2fb0-444c-8d6b-4281ce85d219",
   "metadata": {},
   "outputs": [
    {
     "name": "stdout",
     "output_type": "stream",
     "text": [
      "[  0   1   2 300 400]\n"
     ]
    }
   ],
   "source": [
    "c[ 3 : 5 ] = 300, 400 # Попроси у программиста\n",
    "#  3   4\n",
    "print( c )"
   ]
  },
  {
   "cell_type": "code",
   "execution_count": 9,
   "id": "60925f02-d84a-47a2-a269-03a8f36103b7",
   "metadata": {},
   "outputs": [
    {
     "name": "stdout",
     "output_type": "stream",
     "text": [
      "[1 3]\n"
     ]
    }
   ],
   "source": [
    "a2 = np.array( [ 0, 1, 2, 3, 4, 5, 6 ] )\n",
    "print( a2[ 1 : 5 : 2 ] ) # [ start : end : step ]"
   ]
  },
  {
   "cell_type": "code",
   "execution_count": 10,
   "id": "f4bb0928-14eb-4258-b7da-54dff3992cf9",
   "metadata": {},
   "outputs": [
    {
     "name": "stdout",
     "output_type": "stream",
     "text": [
      "[0 1 2 3]\n"
     ]
    }
   ],
   "source": [
    "print( a2[ : 4 ] ) # 0 1 2 3"
   ]
  },
  {
   "cell_type": "code",
   "execution_count": 11,
   "id": "44e9fbd0-99b6-434b-8f3f-a19dc70156bb",
   "metadata": {},
   "outputs": [
    {
     "name": "stdout",
     "output_type": "stream",
     "text": [
      "[4 5 6]\n"
     ]
    }
   ],
   "source": [
    "print( a2[ 4 : ] ) # 4 5 6"
   ]
  },
  {
   "cell_type": "code",
   "execution_count": 20,
   "id": "be821e9f-824f-4ad6-a434-0ccaa3869ab8",
   "metadata": {},
   "outputs": [],
   "source": [
    "arr = np.array( [ 10, 11, 12, 13, 14, 15, 16, 17 ] )"
   ]
  },
  {
   "cell_type": "code",
   "execution_count": 21,
   "id": "20fa0061-f9bc-4fee-a7a3-932afa63d39a",
   "metadata": {},
   "outputs": [
    {
     "name": "stdout",
     "output_type": "stream",
     "text": [
      "[12 14 16]\n"
     ]
    }
   ],
   "source": [
    "print( arr[ 2 : 8 : 2 ] )"
   ]
  },
  {
   "cell_type": "code",
   "execution_count": 18,
   "id": "4bb99600-edaa-4bf4-9ccd-da38fcd9bce9",
   "metadata": {},
   "outputs": [],
   "source": [
    "select = [ 0, 2, 3, 4 ] # list"
   ]
  },
  {
   "cell_type": "code",
   "execution_count": 22,
   "id": "f6dad02b-1c9c-43f1-a2be-fe768cb5e5ff",
   "metadata": {},
   "outputs": [
    {
     "name": "stdout",
     "output_type": "stream",
     "text": [
      "[10 12 13 14]\n"
     ]
    }
   ],
   "source": [
    "d = arr[ select ]\n",
    "print( d )"
   ]
  },
  {
   "cell_type": "code",
   "execution_count": 23,
   "id": "dbacd502-1ca8-4485-9552-0ae66e5ac28a",
   "metadata": {},
   "outputs": [
    {
     "name": "stdout",
     "output_type": "stream",
     "text": [
      "[  0   1   2 300 400]\n",
      "[100000      1 100000 100000 100000]\n"
     ]
    }
   ],
   "source": [
    "print( c )\n",
    "c[ select ] = 100000\n",
    "print( c )"
   ]
  },
  {
   "cell_type": "code",
   "execution_count": 2,
   "id": "5248cde4-ad07-4622-810c-f3372439a290",
   "metadata": {},
   "outputs": [
    {
     "name": "stdout",
     "output_type": "stream",
     "text": [
      "5\n"
     ]
    }
   ],
   "source": [
    "aa = np.array( [ 0, 1, 2, 3, 4 ] )\n",
    "print( aa.size )"
   ]
  },
  {
   "cell_type": "code",
   "execution_count": 3,
   "id": "f77a6c6d-a315-49d2-8d3f-5d6785d78669",
   "metadata": {},
   "outputs": [
    {
     "data": {
      "text/plain": [
       "1"
      ]
     },
     "execution_count": 3,
     "metadata": {},
     "output_type": "execute_result"
    }
   ],
   "source": [
    "aa.ndim # number of dimentions"
   ]
  },
  {
   "cell_type": "code",
   "execution_count": 5,
   "id": "edb36cd2-5f4b-4191-b9fb-3c7589596699",
   "metadata": {},
   "outputs": [
    {
     "data": {
      "text/plain": [
       "(5,)"
      ]
     },
     "execution_count": 5,
     "metadata": {},
     "output_type": "execute_result"
    }
   ],
   "source": [
    "# Get the shape/size of numpy array\n",
    "\n",
    "aa.shape"
   ]
  },
  {
   "cell_type": "code",
   "execution_count": 6,
   "id": "ba543709-1545-4b8b-ade5-76b3629a5485",
   "metadata": {},
   "outputs": [
    {
     "name": "stdout",
     "output_type": "stream",
     "text": [
      "7\n",
      "1\n",
      "(7,)\n"
     ]
    }
   ],
   "source": [
    "bb = np.array( [ 10, 20, 30, 40, 50, 60, 70 ] )\n",
    "\n",
    "print( bb.size )\n",
    "\n",
    "print( bb.ndim )\n",
    "\n",
    "print( bb.shape )"
   ]
  },
  {
   "cell_type": "code",
   "execution_count": 7,
   "id": "2474b41c-f7a7-4d49-b53b-53e2defe4087",
   "metadata": {},
   "outputs": [
    {
     "data": {
      "text/plain": [
       "2.0"
      ]
     },
     "execution_count": 7,
     "metadata": {},
     "output_type": "execute_result"
    }
   ],
   "source": [
    "# Get the mean of numpy array\n",
    "\n",
    "mean = aa.mean()\n",
    "mean"
   ]
  },
  {
   "cell_type": "code",
   "execution_count": 8,
   "id": "70a8006d-7a36-4e33-9cf6-22a7bb6ff2f4",
   "metadata": {},
   "outputs": [
    {
     "data": {
      "text/plain": [
       "40.0"
      ]
     },
     "execution_count": 8,
     "metadata": {},
     "output_type": "execute_result"
    }
   ],
   "source": [
    "mean = bb.mean() # среднее значение\n",
    "mean"
   ]
  },
  {
   "cell_type": "code",
   "execution_count": 9,
   "id": "ea19305f-edd2-4f61-b56d-1973615c57be",
   "metadata": {},
   "outputs": [
    {
     "data": {
      "text/plain": [
       "1.4142135623730951"
      ]
     },
     "execution_count": 9,
     "metadata": {},
     "output_type": "execute_result"
    }
   ],
   "source": [
    "standard_deviation = aa.std()\n",
    "standard_deviation"
   ]
  },
  {
   "cell_type": "code",
   "execution_count": 10,
   "id": "f1541515-2e63-4535-9ded-69c5b71010d4",
   "metadata": {},
   "outputs": [
    {
     "data": {
      "text/plain": [
       "70"
      ]
     },
     "execution_count": 10,
     "metadata": {},
     "output_type": "execute_result"
    }
   ],
   "source": [
    "max_bb = bb.max()\n",
    "max_bb"
   ]
  },
  {
   "cell_type": "code",
   "execution_count": 11,
   "id": "34e4db54-6d84-4a36-a4ac-ce98b38738d1",
   "metadata": {},
   "outputs": [
    {
     "data": {
      "text/plain": [
       "10"
      ]
     },
     "execution_count": 11,
     "metadata": {},
     "output_type": "execute_result"
    }
   ],
   "source": [
    "min_bb = bb.min()\n",
    "min_bb"
   ]
  },
  {
   "cell_type": "code",
   "execution_count": 12,
   "id": "fc0e0059-898f-4593-bf0a-cad5db116f48",
   "metadata": {},
   "outputs": [
    {
     "data": {
      "text/plain": [
       "array([1, 0])"
      ]
     },
     "execution_count": 12,
     "metadata": {},
     "output_type": "execute_result"
    }
   ],
   "source": [
    "u = np.array([1, 0])\n",
    "u"
   ]
  },
  {
   "cell_type": "code",
   "execution_count": 13,
   "id": "6664a92c-55db-4c40-a3bf-48e5fb930cde",
   "metadata": {},
   "outputs": [
    {
     "data": {
      "text/plain": [
       "array([0, 1])"
      ]
     },
     "execution_count": 13,
     "metadata": {},
     "output_type": "execute_result"
    }
   ],
   "source": [
    "v = np.array([0, 1])\n",
    "v"
   ]
  },
  {
   "cell_type": "code",
   "execution_count": 14,
   "id": "81a613c8-02c5-4c86-9ad7-568c72029599",
   "metadata": {},
   "outputs": [
    {
     "data": {
      "text/plain": [
       "array([1, 1])"
      ]
     },
     "execution_count": 14,
     "metadata": {},
     "output_type": "execute_result"
    }
   ],
   "source": [
    "z = np.add(u, v)\n",
    "z"
   ]
  },
  {
   "cell_type": "code",
   "execution_count": 15,
   "id": "17e037d4-83dd-4ccb-9402-7c26ace7bdbd",
   "metadata": {},
   "outputs": [],
   "source": [
    "# Plotting functions\n",
    "\n",
    "\n",
    "import time \n",
    "import sys\n",
    "import numpy as np \n",
    "\n",
    "import matplotlib.pyplot as plt\n",
    "%matplotlib inline  \n",
    "\n",
    "def Plotvec1(u, z, v):\n",
    "    \n",
    "    ax = plt.axes() # to generate the full window axes\n",
    "    ax.arrow(0, 0, *u, head_width=0.05, color='r', head_length=0.1)# Add an arrow to the  U Axes with arrow head width 0.05, color red and arrow head length 0.1\n",
    "    plt.text(*(u + 0.1), 'u')#Adds the text u to the Axes \n",
    "    \n",
    "    ax.arrow(0, 0, *v, head_width=0.05, color='b', head_length=0.1)# Add an arrow to the  v Axes with arrow head width 0.05, color red and arrow head length 0.1\n",
    "    plt.text(*(v + 0.1), 'v')#Adds the text v to the Axes \n",
    "    \n",
    "    ax.arrow(0, 0, *z, head_width=0.05, head_length=0.1)\n",
    "    plt.text(*(z + 0.1), 'z')#Adds the text z to the Axes \n",
    "    plt.ylim(-2, 2)#set the ylim to bottom(-2), top(2)\n",
    "    plt.xlim(-2, 2)#set the xlim to left(-2), right(2)\n"
   ]
  },
  {
   "cell_type": "code",
   "execution_count": 16,
   "id": "e07148c9-f890-4663-828e-7d2692443072",
   "metadata": {},
   "outputs": [
    {
     "data": {
      "image/png": "[encoded data removed]",
      "text/plain": [
       "<Figure size 640x480 with 1 Axes>"
      ]
     },
     "metadata": {},
     "output_type": "display_data"
    }
   ],
   "source": [
    "Plotvec1(u, z, v)"
   ]
  },
  {
   "cell_type": "code",
   "execution_count": 17,
   "id": "1f81fd60-ddc1-4dae-9c52-3927176de63d",
   "metadata": {},
   "outputs": [
    {
     "data": {
      "text/plain": [
       "array([30, 32, 34, 36, 38, 40])"
      ]
     },
     "execution_count": 17,
     "metadata": {},
     "output_type": "execute_result"
    }
   ],
   "source": [
    "arr1 = np.array([10, 11, 12, 13, 14, 15])\n",
    "arr2 = np.array([20, 21, 22, 23, 24, 25])\n",
    "arr3 = np.add(arr1, arr2)\n",
    "arr3"
   ]
  },
  {
   "cell_type": "code",
   "execution_count": 18,
   "id": "5d63757d-2345-4a4b-b388-6b8bb0a8c31c",
   "metadata": {},
   "outputs": [
    {
     "name": "stdout",
     "output_type": "stream",
     "text": [
      "[ 5 10 15]\n"
     ]
    }
   ],
   "source": [
    "a = np.array([10, 20, 30])\n",
    "b = np.array([5, 10, 15])\n",
    "c = np.subtract(a, b)\n",
    "\n",
    "print( c )"
   ]
  },
  {
   "cell_type": "code",
   "execution_count": 19,
   "id": "14ddaf1d-8d7b-4982-88d3-7b86544f99de",
   "metadata": {},
   "outputs": [
    {
     "data": {
      "text/plain": [
       "array([2, 2])"
      ]
     },
     "execution_count": 19,
     "metadata": {},
     "output_type": "execute_result"
    }
   ],
   "source": [
    "x = np.array([1, 2])\n",
    "y = np.array([2, 1])\n",
    "z = np.multiply(x, y)\n",
    "z\n"
   ]
  },
  {
   "cell_type": "code",
   "execution_count": 21,
   "id": "adf41bd4-55c5-4eed-add8-eae8805c0cfd",
   "metadata": {},
   "outputs": [
    {
     "data": {
      "text/plain": [
       "array([5., 2., 6.])"
      ]
     },
     "execution_count": 21,
     "metadata": {},
     "output_type": "execute_result"
    }
   ],
   "source": [
    "a = np.array([10, 20, 30])\n",
    "b = np.array([2, 10, 5])\n",
    "c = np.divide( a, b )\n",
    "c"
   ]
  },
  {
   "cell_type": "code",
   "execution_count": 23,
   "id": "b5d737e7-7408-459e-9d42-179c55c41e98",
   "metadata": {},
   "outputs": [
    {
     "name": "stdout",
     "output_type": "stream",
     "text": [
      "7\n",
      "1\n",
      "2\n",
      "3\n",
      "2\n"
     ]
    }
   ],
   "source": [
    "X = np.array([1, 2])\n",
    "Y = np.array([3, 2])\n",
    "# Calculate the dot product\n",
    "\n",
    "print( np.dot(X, Y) )\n",
    "#Elements of X\n",
    "print(X[0])\n",
    "print(X[1])\n",
    "#Elements of Y\n",
    "print(Y[0])\n",
    "print(Y[1])"
   ]
  },
  {
   "cell_type": "code",
   "execution_count": 25,
   "id": "c865f939-aa3c-4243-9e12-d45f8946326c",
   "metadata": {},
   "outputs": [
    {
     "data": {
      "text/plain": [
       "array([112, 113, 114, 110])"
      ]
     },
     "execution_count": 25,
     "metadata": {},
     "output_type": "execute_result"
    }
   ],
   "source": [
    "u = np.array([1, 2, 3, -1]) \n",
    "# Add the constant to array\n",
    "\n",
    "u + 111"
   ]
  },
  {
   "cell_type": "code",
   "execution_count": 26,
   "id": "61261ce6-83c1-48d9-8728-afd0e06aa61a",
   "metadata": {},
   "outputs": [
    {
     "name": "stdout",
     "output_type": "stream",
     "text": [
      "3.141592653589793\n"
     ]
    }
   ],
   "source": [
    "# The value of pi\n",
    "\n",
    "print( np.pi )"
   ]
  },
  {
   "cell_type": "code",
   "execution_count": 27,
   "id": "72a332c1-cd21-40f0-b007-df88ce79248c",
   "metadata": {},
   "outputs": [
    {
     "data": {
      "text/plain": [
       "array([0.0000000e+00, 1.0000000e+00, 1.2246468e-16])"
      ]
     },
     "execution_count": 27,
     "metadata": {},
     "output_type": "execute_result"
    }
   ],
   "source": [
    "x = np.array([0, np.pi/2 , np.pi])\n",
    "y = np.sin(x)\n",
    "y"
   ]
  },
  {
   "cell_type": "markdown",
   "id": "74bd86d0-13ae-4341-a4eb-fd57935bef64",
   "metadata": {},
   "source": [
    "# numpy.linspace( start, stop, num = int value )"
   ]
  },
  {
   "cell_type": "code",
   "execution_count": 28,
   "id": "cea82065-192b-43ef-9c39-e3fe2144c6ff",
   "metadata": {},
   "outputs": [
    {
     "data": {
      "text/plain": [
       "array([-2., -1.,  0.,  1.,  2.])"
      ]
     },
     "execution_count": 28,
     "metadata": {},
     "output_type": "execute_result"
    }
   ],
   "source": [
    "np.linspace(-2, 2, num=5)"
   ]
  },
  {
   "cell_type": "code",
   "execution_count": 29,
   "id": "08dea7a7-40cd-4ee5-a4d8-e2d683ccb10b",
   "metadata": {},
   "outputs": [
    {
     "data": {
      "text/plain": [
       "array([-2. , -1.5, -1. , -0.5,  0. ,  0.5,  1. ,  1.5,  2. ])"
      ]
     },
     "execution_count": 29,
     "metadata": {},
     "output_type": "execute_result"
    }
   ],
   "source": [
    "np.linspace(-2, 2, num=9)"
   ]
  },
  {
   "cell_type": "code",
   "execution_count": 30,
   "id": "46f608ce-07e4-44b8-a308-c46033e9d85b",
   "metadata": {},
   "outputs": [],
   "source": [
    "x = np.linspace(0, 2*np.pi, num=100)"
   ]
  },
  {
   "cell_type": "code",
   "execution_count": 31,
   "id": "02e8e96e-b516-45de-934d-1e8c28657ba8",
   "metadata": {},
   "outputs": [],
   "source": [
    "y = np.sin(x)"
   ]
  },
  {
   "cell_type": "code",
   "execution_count": 32,
   "id": "48d21770-e8f1-4a0c-9750-2e7b924161f9",
   "metadata": {},
   "outputs": [
    {
     "data": {
      "text/plain": [
       "[<matplotlib.lines.Line2D at 0x1aaf8ea0210>]"
      ]
     },
     "execution_count": 32,
     "metadata": {},
     "output_type": "execute_result"
    },
    {
     "data": {
      "image/png": "[encoded data removed]",
      "text/plain": [
       "<Figure size 640x480 with 1 Axes>"
      ]
     },
     "metadata": {},
     "output_type": "display_data"
    }
   ],
   "source": [
    "plt.plot(x, y)"
   ]
  },
  {
   "cell_type": "code",
   "execution_count": 33,
   "id": "340bd21a-6a19-4548-8bd9-3385041bcff4",
   "metadata": {},
   "outputs": [
    {
     "data": {
      "text/plain": [
       "array([5. , 4.8, 4.6, 4.4, 4.2, 4. ])"
      ]
     },
     "execution_count": 33,
     "metadata": {},
     "output_type": "execute_result"
    }
   ],
   "source": [
    "np.linspace(5, 4, num=6)"
   ]
  },
  {
   "cell_type": "code",
   "execution_count": 34,
   "id": "c5341006-31d4-4133-bbbf-5cc17b4d7564",
   "metadata": {},
   "outputs": [
    {
     "name": "stdout",
     "output_type": "stream",
     "text": [
      "[1 2 3]\n"
     ]
    }
   ],
   "source": [
    "arr1 = np.array([1, 2, 3])\n",
    "print(arr1)"
   ]
  },
  {
   "cell_type": "code",
   "execution_count": 35,
   "id": "01c4378d-eb26-4483-a5cc-e733ff0fb385",
   "metadata": {},
   "outputs": [
    {
     "name": "stdout",
     "output_type": "stream",
     "text": [
      "1\n",
      "2\n",
      "3\n"
     ]
    }
   ],
   "source": [
    "for x in arr1:\n",
    "  print(x)"
   ]
  },
  {
   "cell_type": "code",
   "execution_count": null,
   "id": "adebf17b-4563-4ffe-9137-45aee5f8f8d3",
   "metadata": {},
   "outputs": [],
   "source": []
  }
 ],
 "metadata": {
  "kernelspec": {
   "display_name": "Python 3 (ipykernel)",
   "language": "python",
   "name": "python3"
  },
  "language_info": {
   "codemirror_mode": {
    "name": "ipython",
    "version": 3
   },
   "file_extension": ".py",
   "mimetype": "text/x-python",
   "name": "python",
   "nbconvert_exporter": "python",
   "pygments_lexer": "ipython3",
   "version": "3.11.0"
  }
 },
 "nbformat": 4,
 "nbformat_minor": 5
}
