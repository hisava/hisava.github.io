{
 "cells": [
  {
   "cell_type": "markdown",
   "id": "2f22f40b-70cd-4bf0-bf34-3cd5af38d307",
   "metadata": {},
   "source": [
    "# numpy\n"
   ]
  },
  {
   "cell_type": "markdown",
   "id": "de008509-377f-462e-b796-39842bb96645",
   "metadata": {},
   "source": [
    "## numpy"
   ]
  },
  {
   "cell_type": "markdown",
   "id": "101425ef-5139-492f-b41c-aefa7f43aad1",
   "metadata": {},
   "source": [
    "### numpy"
   ]
  },
  {
   "cell_type": "code",
   "execution_count": null,
   "id": "446563b3-99a0-490e-a68d-ea992590ab8c",
   "metadata": {},
   "outputs": [],
   "source": [
    "numpy ( or np ) is numerical in python"
   ]
  },
  {
   "cell_type": "markdown",
   "id": "72016520-c7b5-4a41-88a6-189ef684da72",
   "metadata": {},
   "source": [
    "Что такое **ndarray** ?"
   ]
  },
  {
   "cell_type": "markdown",
   "id": "08ac8d04-950f-48b9-9854-6896471c5e23",
   "metadata": {},
   "source": [
    "https://github.com/numpy/numpy"
   ]
  },
  {
   "cell_type": "markdown",
   "id": "52342ebf-575c-4d29-a9f6-43352079953f",
   "metadata": {},
   "source": [
    "**ndarray** это такой специальный тип данных ( класс ), который придумал *Jim*"
   ]
  },
  {
   "cell_type": "markdown",
   "id": "7041b04c-ee8a-4397-aadf-0f864b14c0e6",
   "metadata": {},
   "source": [
    "Джим Хьюгонин `Jim Hugunin` изначально назвал расширение для языка Python\n",
    "\n",
    "numeric\n",
    "\n",
    "а, не numpy"
   ]
  },
  {
   "cell_type": "markdown",
   "id": "bdd0278d-366d-43ba-abbb-37568e303d5c",
   "metadata": {},
   "source": [
    "Т.е. **ndarray** - это `numeric data array'"
   ]
  },
  {
   "cell_type": "code",
   "execution_count": 1,
   "id": "c5bb2681-2be7-4fff-9f47-8ff97e42ed01",
   "metadata": {},
   "outputs": [],
   "source": [
    "import numpy as np "
   ]
  },
  {
   "cell_type": "code",
   "execution_count": 2,
   "id": "96b84ea3-b8c4-4d6d-aeaa-e0087453fad9",
   "metadata": {},
   "outputs": [
    {
     "data": {
      "text/plain": [
       "numpy.ndarray"
      ]
     },
     "execution_count": 2,
     "metadata": {},
     "output_type": "execute_result"
    }
   ],
   "source": [
    "aa = np.array( [ 0, 1, 2, 3, 4 ] )\n",
    "type( aa )"
   ]
  },
  {
   "cell_type": "code",
   "execution_count": 3,
   "id": "ec1d106d-ca3d-408d-b79d-728e5e76121f",
   "metadata": {},
   "outputs": [
    {
     "name": "stdout",
     "output_type": "stream",
     "text": [
      "[0 1 2 3 4]\n"
     ]
    }
   ],
   "source": [
    "print( aa )"
   ]
  },
  {
   "cell_type": "code",
   "execution_count": 4,
   "id": "0bc41a06-1728-46a1-b4a4-18fa4d796b18",
   "metadata": {},
   "outputs": [
    {
     "data": {
      "text/plain": [
       "list"
      ]
     },
     "execution_count": 4,
     "metadata": {},
     "output_type": "execute_result"
    }
   ],
   "source": [
    "alist = [ 0, 1, 2, 3, 4 ]\n",
    "type( alist )"
   ]
  },
  {
   "cell_type": "code",
   "execution_count": 5,
   "id": "a12402ee-2c90-4edb-8be5-d2d42ecdc877",
   "metadata": {},
   "outputs": [
    {
     "name": "stdout",
     "output_type": "stream",
     "text": [
      "[0, 1, 2, 3, 4]\n"
     ]
    }
   ],
   "source": [
    "print( alist )"
   ]
  },
  {
   "cell_type": "code",
   "execution_count": 6,
   "id": "e37bfe53-0554-4dbc-9dc9-0d7893663edf",
   "metadata": {},
   "outputs": [
    {
     "name": "stdout",
     "output_type": "stream",
     "text": [
      "1.25.1\n"
     ]
    }
   ],
   "source": [
    "print( np.__version__ ) # ВЕРСИЯ БИБЛИОТЕКИ numpy"
   ]
  },
  {
   "cell_type": "markdown",
   "id": "5b35abdb-1973-480b-8768-4c145440b1d9",
   "metadata": {},
   "source": [
    "В массивах **ndarray** каждый элемент имеет определённый тип\n",
    "\n",
    "Он называется `dtype` от *data type*"
   ]
  },
  {
   "cell_type": "code",
   "execution_count": 8,
   "id": "1f3d89f0-2e1a-453e-9c27-9828c3402a77",
   "metadata": {},
   "outputs": [
    {
     "data": {
      "text/plain": [
       "dtype('int32')"
      ]
     },
     "execution_count": 8,
     "metadata": {},
     "output_type": "execute_result"
    }
   ],
   "source": [
    "aa.dtype"
   ]
  },
  {
   "cell_type": "code",
   "execution_count": 9,
   "id": "6ec5f0bb-9334-45e5-8f0c-577cb9cf0397",
   "metadata": {},
   "outputs": [],
   "source": [
    "bb = np.array( [ np.pi ] )"
   ]
  },
  {
   "cell_type": "code",
   "execution_count": 10,
   "id": "b182e77a-a639-4fa5-8d24-c8216f43996d",
   "metadata": {},
   "outputs": [
    {
     "name": "stdout",
     "output_type": "stream",
     "text": [
      "[3.14159265]\n"
     ]
    }
   ],
   "source": [
    "print( bb )"
   ]
  },
  {
   "cell_type": "code",
   "execution_count": 11,
   "id": "39521d42-852b-499f-a206-bf2eda3379b6",
   "metadata": {},
   "outputs": [
    {
     "data": {
      "text/plain": [
       "dtype('float64')"
      ]
     },
     "execution_count": 11,
     "metadata": {},
     "output_type": "execute_result"
    }
   ],
   "source": [
    "bb.dtype"
   ]
  },
  {
   "cell_type": "markdown",
   "id": "a4af581c-ae10-4266-bf66-f3fc02f8c8b4",
   "metadata": {},
   "source": [
    "Т.е. по содержимому массива автоматически определяется тип\n",
    "\n",
    "**int32** или **float64**"
   ]
  },
  {
   "cell_type": "code",
   "execution_count": null,
   "id": "71669581-c046-4b8c-b30c-a9d05cb610be",
   "metadata": {},
   "outputs": [],
   "source": []
  }
 ],
 "metadata": {
  "kernelspec": {
   "display_name": "Python 3 (ipykernel)",
   "language": "python",
   "name": "python3"
  },
  "language_info": {
   "codemirror_mode": {
    "name": "ipython",
    "version": 3
   },
   "file_extension": ".py",
   "mimetype": "text/x-python",
   "name": "python",
   "nbconvert_exporter": "python",
   "pygments_lexer": "ipython3",
   "version": "3.11.4"
  }
 },
 "nbformat": 4,
 "nbformat_minor": 5
}
