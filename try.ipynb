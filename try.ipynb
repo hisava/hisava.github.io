{
 "cells": [
  {
   "cell_type": "markdown",
   "id": "7ce2125d-574c-49c3-b19b-d67234a0b620",
   "metadata": {},
   "source": [
    "# Моя первая лаборатория"
   ]
  },
  {
   "cell_type": "code",
   "execution_count": 2,
   "id": "e18f519c-5354-4200-a002-45e869e17372",
   "metadata": {},
   "outputs": [
    {
     "name": "stdout",
     "output_type": "stream",
     "text": [
      "Привет, человек\n"
     ]
    }
   ],
   "source": [
    "print( 'Привет, человек' )"
   ]
  },
  {
   "cell_type": "markdown",
   "id": "968af745-afe3-4dba-82b5-6d2205fb0bc2",
   "metadata": {},
   "source": [
    "## Python for Data Science\n",
    "\n",
    "### AI & Development"
   ]
  },
  {
   "cell_type": "markdown",
   "id": "62fbeada-ba4a-4156-b284-bb3841b9aa64",
   "metadata": {},
   "source": [
    "Обработка исключений\n",
    "\n",
    "try .. except .. else .. finally"
   ]
  },
  {
   "cell_type": "code",
   "execution_count": 5,
   "id": "6f08d382-2601-489d-a379-fa3a3e978306",
   "metadata": {},
   "outputs": [
    {
     "ename": "SyntaxError",
     "evalue": "cannot assign to literal here. Maybe you meant '==' instead of '='? (701140803.py, line 2)",
     "output_type": "error",
     "traceback": [
      "\u001b[1;36m  Cell \u001b[1;32mIn[5], line 2\u001b[1;36m\u001b[0m\n\u001b[1;33m    1 = 2\u001b[0m\n\u001b[1;37m    ^\u001b[0m\n\u001b[1;31mSyntaxError\u001b[0m\u001b[1;31m:\u001b[0m cannot assign to literal here. Maybe you meant '==' instead of '='?\n"
     ]
    }
   ],
   "source": [
    "try:\n",
    "  1 = 2\n",
    "except:\n",
    "  print( 'Произошла ошибка' )"
   ]
  },
  {
   "cell_type": "code",
   "execution_count": null,
   "id": "0dd66f7f-bbef-4e70-9f9a-f891766a1ec0",
   "metadata": {},
   "outputs": [],
   "source": [
    "try:\n",
    "    # code to try to execute\n",
    "except:\n",
    "    # code to execute if there is an exception\n"
   ]
  },
  {
   "cell_type": "code",
   "execution_count": 7,
   "id": "780f9f2e-c137-4b81-9631-9c63ce5cdec8",
   "metadata": {},
   "outputs": [
    {
     "name": "stdin",
     "output_type": "stream",
     "text": [
      "Введите число:  0\n"
     ]
    },
    {
     "name": "stdout",
     "output_type": "stream",
     "text": [
      "В результате деления произошла ошибка\n"
     ]
    }
   ],
   "source": [
    "a = 2\n",
    "try :\n",
    "    b = int( input( \"Введите число: \" ) )\n",
    "    a = a / b\n",
    "    print( \"Результат = \", a )\n",
    "except :    \n",
    "    print( \"В результате деления произошла ошибка\" )"
   ]
  },
  {
   "cell_type": "code",
   "execution_count": null,
   "id": "2eeb2b5a-038e-499d-81e0-8de07b37e060",
   "metadata": {},
   "outputs": [],
   "source": [
    "try:\n",
    "    # code to try to execute\n",
    "except ZeroDivisionError:\n",
    "    # code to execute if there is a ZeroDivisionError\n",
    "except NameError:\n",
    "    # code to execute if there is a NameError\n"
   ]
  },
  {
   "cell_type": "code",
   "execution_count": null,
   "id": "7b8debd1-51f8-4ac3-943d-9a06cef4df39",
   "metadata": {},
   "outputs": [],
   "source": [
    "try:\n",
    "    # code to try to execute\n",
    "except ZeroDivisionError:\n",
    "    # code to execute if there is a ZeroDivisionError\n",
    "except NameError:\n",
    "    # code to execute if there is a NameError\n",
    "except:\n",
    "    # code to execute if ther is any exception\n"
   ]
  },
  {
   "cell_type": "code",
   "execution_count": 8,
   "id": "03388229-94bd-4765-8f6c-ad80edd44b42",
   "metadata": {},
   "outputs": [
    {
     "name": "stdin",
     "output_type": "stream",
     "text": [
      "Введите число:  0\n"
     ]
    },
    {
     "name": "stdout",
     "output_type": "stream",
     "text": [
      "Нельзя делить на ноль\n"
     ]
    }
   ],
   "source": [
    "a = 2\n",
    "try :\n",
    "    b = int( input( \"Введите число: \" ) )\n",
    "    a = a / b\n",
    "    print( \"Результат = \", a )\n",
    "except ZeroDivisionError:    \n",
    "    print( \"Нельзя делить на ноль\" )\n",
    "except ValueError:\n",
    "    print(\"You did not provide a number\")\n",
    "except:\n",
    "    print(\"Something went wrong\")   "
   ]
  },
  {
   "cell_type": "code",
   "execution_count": null,
   "id": "7d2d3c69-58c8-4225-a70d-9855cab577a0",
   "metadata": {},
   "outputs": [],
   "source": [
    "try :\n",
    "    # code to try to execute\n",
    "except ZeroDivisionError :\n",
    "    # code to execute if there is a ZeroDivisionError\n",
    "except NameError :\n",
    "    # code to execute if there is a NameError\n",
    "except :\n",
    "    # code to execute if ther is any exception\n",
    "else :\n",
    "    # code to execute if there is no exception\n",
    "finally :\n",
    "    # code to execute at the end of the try except no matter what"
   ]
  },
  {
   "cell_type": "code",
   "execution_count": 9,
   "id": "b0919dc9-5457-40b6-a517-9747d5901324",
   "metadata": {},
   "outputs": [
    {
     "name": "stdin",
     "output_type": "stream",
     "text": [
      "Please enter a number to divide a 1\n"
     ]
    },
    {
     "name": "stdout",
     "output_type": "stream",
     "text": [
      "success a= 1.0\n",
      "Processing Complete\n"
     ]
    }
   ],
   "source": [
    "a = 1\n",
    "\n",
    "try:\n",
    "    b = int(input(\"Please enter a number to divide a\"))\n",
    "    a = a/b\n",
    "except ZeroDivisionError:\n",
    "    print(\"The number you provided cant divide 1 because it is 0\")\n",
    "except ValueError:\n",
    "    print(\"You did not provide a number\")\n",
    "except:\n",
    "    print(\"Something went wrong\")\n",
    "else:\n",
    "    print(\"success a=\",a)\n",
    "finally:\n",
    "    print(\"Processing Complete\")"
   ]
  },
  {
   "cell_type": "code",
   "execution_count": 10,
   "id": "45adf953-bf4b-4b0e-8ab0-3cab7314bd17",
   "metadata": {},
   "outputs": [
    {
     "name": "stdin",
     "output_type": "stream",
     "text": [
      "Enter the numerator value:- 10\n",
      "Enter the denominator value:- 0\n"
     ]
    },
    {
     "name": "stdout",
     "output_type": "stream",
     "text": [
      "Error: Cannot divide by zero.\n",
      "None\n"
     ]
    }
   ],
   "source": [
    "def safe_divide(numerator,denominator):\n",
    "    try:\n",
    "        result = numerator / denominator\n",
    "        return result\n",
    "    except ZeroDivisionError:\n",
    "        print(\"Error: Cannot divide by zero.\")\n",
    "        return None\n",
    "# Test case\n",
    "numerator=int(input(\"Enter the numerator value:-\"))\n",
    "denominator=int(input(\"Enter the denominator value:-\"))\n",
    "print( safe_divide(numerator,denominator) ) "
   ]
  },
  {
   "cell_type": "code",
   "execution_count": 12,
   "id": "a6a3f08d-d414-41d1-bf90-950773e61dee",
   "metadata": {},
   "outputs": [
    {
     "name": "stdin",
     "output_type": "stream",
     "text": [
      "Enter the first number:- 1\n",
      "Enter the second number:- ,\n"
     ]
    },
    {
     "ename": "ValueError",
     "evalue": "could not convert string to float: ','",
     "output_type": "error",
     "traceback": [
      "\u001b[1;31m---------------------------------------------------------------------------\u001b[0m",
      "\u001b[1;31mValueError\u001b[0m                                Traceback (most recent call last)",
      "Cell \u001b[1;32mIn[12], line 9\u001b[0m\n\u001b[0;32m      7\u001b[0m \u001b[38;5;66;03m# Test case\u001b[39;00m\n\u001b[0;32m      8\u001b[0m number1\u001b[38;5;241m=\u001b[39m\u001b[38;5;28mfloat\u001b[39m(\u001b[38;5;28minput\u001b[39m(\u001b[38;5;124m\"\u001b[39m\u001b[38;5;124mEnter the first number:-\u001b[39m\u001b[38;5;124m\"\u001b[39m))\n\u001b[1;32m----> 9\u001b[0m number2\u001b[38;5;241m=\u001b[39m\u001b[38;5;28;43mfloat\u001b[39;49m\u001b[43m(\u001b[49m\u001b[38;5;28;43minput\u001b[39;49m\u001b[43m(\u001b[49m\u001b[38;5;124;43m\"\u001b[39;49m\u001b[38;5;124;43mEnter the second number:-\u001b[39;49m\u001b[38;5;124;43m\"\u001b[39;49m\u001b[43m)\u001b[49m\u001b[43m)\u001b[49m\n\u001b[0;32m     10\u001b[0m perform_calculation(number1,number2)\n\u001b[0;32m     11\u001b[0m \u001b[38;5;66;03m# **Note:- Test with different inputs to validate error handling.**\u001b[39;00m\n",
      "\u001b[1;31mValueError\u001b[0m: could not convert string to float: ','"
     ]
    }
   ],
   "source": [
    "def perform_calculation(number1, number2):\n",
    "    try:\n",
    "        result = number1 * number2\n",
    "        print(f\"Result: {result}\")\n",
    "    except ValueError:\n",
    "        print(\"Error: Invalid input! Please enter an integer.\")\n",
    "# Test case\n",
    "number1=float(input(\"Enter the first number:-\"))\n",
    "number2=float(input(\"Enter the second number:-\"))\n",
    "perform_calculation(number1,number2)\n",
    "# **Note:- Test with different inputs to validate error handling.**"
   ]
  },
  {
   "cell_type": "code",
   "execution_count": null,
   "id": "5ffd0a7c-3d15-4ac5-83e5-c6e970a6c236",
   "metadata": {},
   "outputs": [],
   "source": []
  }
 ],
 "metadata": {
  "kernelspec": {
   "display_name": "Python 3 (ipykernel)",
   "language": "python",
   "name": "python3"
  },
  "language_info": {
   "codemirror_mode": {
    "name": "ipython",
    "version": 3
   },
   "file_extension": ".py",
   "mimetype": "text/x-python",
   "name": "python",
   "nbconvert_exporter": "python",
   "pygments_lexer": "ipython3",
   "version": "3.11.0"
  }
 },
 "nbformat": 4,
 "nbformat_minor": 5
}
